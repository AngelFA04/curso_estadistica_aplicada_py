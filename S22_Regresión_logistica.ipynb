{
  "nbformat": 4,
  "nbformat_minor": 0,
  "metadata": {
    "colab": {
      "name": "S22 - Regresión logistica.ipynb",
      "provenance": [],
      "collapsed_sections": [],
      "authorship_tag": "ABX9TyOUynf4hlCqG1i5Ejand7H6",
      "include_colab_link": true
    },
    "kernelspec": {
      "name": "python3",
      "display_name": "Python 3"
    }
  },
  "cells": [
    {
      "cell_type": "markdown",
      "metadata": {
        "id": "view-in-github",
        "colab_type": "text"
      },
      "source": [
        "<a href=\"https://colab.research.google.com/github/AngelFA04/curso_estadistica_aplicada_py/blob/master/S22_Regresi%C3%B3n_logistica.ipynb\" target=\"_parent\"><img src=\"https://colab.research.google.com/assets/colab-badge.svg\" alt=\"Open In Colab\"/></a>"
      ]
    },
    {
      "cell_type": "markdown",
      "metadata": {
        "id": "drLkYVHQdtP2",
        "colab_type": "text"
      },
      "source": [
        "# Regresión logística"
      ]
    },
    {
      "cell_type": "markdown",
      "metadata": {
        "id": "iimL8ZPaeKMc",
        "colab_type": "text"
      },
      "source": [
        "Los modelos de regresión loineal tienen como variable de respuesta ($Y$) una variable cuantitativa.\n",
        "\n",
        "¿Qué pasa si la variable de respuesta fuera cualitativa?\n",
        "\n",
        "Por ejemplo, una variable de variable cualitativa o de naturaleza Bernoulli sería una que indique si una persona compra o no un producto.\n",
        "\n",
        "$X = 0:$ No comprador, $X = 1:$ Comprador\n",
        "Ahora la regresión lineal no se puede aplicar porque al estimar los valores de 0 o 1 incurriríamos en valores menos a 0 y mayores que 1.\n",
        "Por esto es que se transforma la variable de salida con el operador logístico, el cual acotara el resultadoa a 0 o a 1, a traves de la siguiente fórmula: \n",
        "$$ Prob_L = \\frac{1}{1+e^{-(\\beta_0+\\beta_1x_{1,i}+...+\\beta_kx_{k,i})}} $$\n",
        "\n",
        "$$ {\\displaystyle g(h)={\\frac {1}{1+e^{-2\\beta h}}},} $$ \n",
        "\n",
        "La función logística transforma la variable $Y$ númerica en una probabilidad [0,1] valiéndose de la misma estructura que la regresión lineal."
      ]
    },
    {
      "cell_type": "markdown",
      "metadata": {
        "id": "VOYNDUkMgeZ3",
        "colab_type": "text"
      },
      "source": [
        "## Referencias\n",
        "- https://en.wikipedia.org/wiki/Logistic_function\n",
        "- https://towardsdatascience.com/introduction-to-logistic-regression-66248243c148"
      ]
    },
    {
      "cell_type": "markdown",
      "metadata": {
        "id": "zLO03zREggLC",
        "colab_type": "text"
      },
      "source": [
        "---"
      ]
    },
    {
      "cell_type": "code",
      "metadata": {
        "id": "JKZrridChfbe",
        "colab_type": "code",
        "colab": {
          "base_uri": "https://localhost:8080/",
          "height": 222
        },
        "outputId": "66d4cde4-8161-4701-f129-6753d7aafcf5"
      },
      "source": [
        "!pip install pyreadstat"
      ],
      "execution_count": 7,
      "outputs": [
        {
          "output_type": "stream",
          "text": [
            "Collecting pyreadstat\n",
            "\u001b[?25l  Downloading https://files.pythonhosted.org/packages/c1/5d/610b957132a2fa60128f362b15ff509baefd92c85e4cea1e1001a682ee30/pyreadstat-1.0.1-cp36-cp36m-manylinux1_x86_64.whl (1.9MB)\n",
            "\u001b[K     |████████████████████████████████| 2.0MB 2.7MB/s \n",
            "\u001b[?25hRequirement already satisfied: pandas>0.24.0 in /usr/local/lib/python3.6/dist-packages (from pyreadstat) (1.0.5)\n",
            "Requirement already satisfied: python-dateutil>=2.6.1 in /usr/local/lib/python3.6/dist-packages (from pandas>0.24.0->pyreadstat) (2.8.1)\n",
            "Requirement already satisfied: numpy>=1.13.3 in /usr/local/lib/python3.6/dist-packages (from pandas>0.24.0->pyreadstat) (1.18.5)\n",
            "Requirement already satisfied: pytz>=2017.2 in /usr/local/lib/python3.6/dist-packages (from pandas>0.24.0->pyreadstat) (2018.9)\n",
            "Requirement already satisfied: six>=1.5 in /usr/local/lib/python3.6/dist-packages (from python-dateutil>=2.6.1->pandas>0.24.0->pyreadstat) (1.15.0)\n",
            "Installing collected packages: pyreadstat\n",
            "Successfully installed pyreadstat-1.0.1\n"
          ],
          "name": "stdout"
        }
      ]
    },
    {
      "cell_type": "code",
      "metadata": {
        "id": "rZ0TC6wghAum",
        "colab_type": "code",
        "colab": {
          "base_uri": "https://localhost:8080/",
          "height": 240
        },
        "outputId": "b0d02aa4-6c5b-43c3-8f45-9a8d1fcbd279"
      },
      "source": [
        "!wget https://static.platzi.com/media/tmp/class-files/git/fundamentos-estadistica-analisis-de-datos-python/fundamentos-estadistica-analisis-de-datos-python-21-regresion-logistica/compensacion-ejecutivos.sav"
      ],
      "execution_count": 4,
      "outputs": [
        {
          "output_type": "stream",
          "text": [
            "--2020-09-01 16:33:54--  https://static.platzi.com/media/tmp/class-files/git/fundamentos-estadistica-analisis-de-datos-python/fundamentos-estadistica-analisis-de-datos-python-21-regresion-logistica/compensacion-ejecutivos.sav\n",
            "Resolving static.platzi.com (static.platzi.com)... 104.20.18.218, 172.67.19.213, 104.20.19.218, ...\n",
            "Connecting to static.platzi.com (static.platzi.com)|104.20.18.218|:443... connected.\n",
            "HTTP request sent, awaiting response... 200 OK\n",
            "Length: 3121 (3.0K) [application/octet-stream]\n",
            "Saving to: ‘compensacion-ejecutivos.sav’\n",
            "\n",
            "compensacion-ejecut 100%[===================>]   3.05K  --.-KB/s    in 0.006s  \n",
            "\n",
            "2020-09-01 16:33:54 (483 KB/s) - ‘compensacion-ejecutivos.sav’ saved [3121/3121]\n",
            "\n"
          ],
          "name": "stdout"
        }
      ]
    },
    {
      "cell_type": "code",
      "metadata": {
        "id": "tjuwfZr5hIpu",
        "colab_type": "code",
        "colab": {}
      },
      "source": [
        "import pandas as pd\n",
        "import numpy as np\n",
        "import matplotlib.pyplot as plt\n",
        "\n",
        "import statsmodels.api as sm\n",
        "import pyreadstat as pr\n",
        "\n",
        "from sklearn import linear_model\n",
        "from sklearn.metrics import mean_squared_error, r2_score, accuracy_score\n",
        "from sklearn import metrics\n",
        "\n",
        "%matplotlib inline"
      ],
      "execution_count": 32,
      "outputs": []
    },
    {
      "cell_type": "code",
      "metadata": {
        "id": "VDgoSXtfhjWC",
        "colab_type": "code",
        "colab": {
          "base_uri": "https://localhost:8080/",
          "height": 206
        },
        "outputId": "05a6e9d6-6aa5-445a-87c5-a9c3f8836437"
      },
      "source": [
        "arc = 'compensacion-ejecutivos.sav'\n",
        "df, meta = pr.read_sav(arc)\n",
        "df.head()"
      ],
      "execution_count": 9,
      "outputs": [
        {
          "output_type": "execute_result",
          "data": {
            "text/html": [
              "<div>\n",
              "<style scoped>\n",
              "    .dataframe tbody tr th:only-of-type {\n",
              "        vertical-align: middle;\n",
              "    }\n",
              "\n",
              "    .dataframe tbody tr th {\n",
              "        vertical-align: top;\n",
              "    }\n",
              "\n",
              "    .dataframe thead th {\n",
              "        text-align: right;\n",
              "    }\n",
              "</style>\n",
              "<table border=\"1\" class=\"dataframe\">\n",
              "  <thead>\n",
              "    <tr style=\"text-align: right;\">\n",
              "      <th></th>\n",
              "      <th>salario</th>\n",
              "      <th>noasiat</th>\n",
              "      <th>gpa</th>\n",
              "      <th>postgrad</th>\n",
              "      <th>experien</th>\n",
              "    </tr>\n",
              "  </thead>\n",
              "  <tbody>\n",
              "    <tr>\n",
              "      <th>0</th>\n",
              "      <td>99026.0</td>\n",
              "      <td>0.0</td>\n",
              "      <td>3.36</td>\n",
              "      <td>0.0</td>\n",
              "      <td>15.0</td>\n",
              "    </tr>\n",
              "    <tr>\n",
              "      <th>1</th>\n",
              "      <td>69190.0</td>\n",
              "      <td>1.0</td>\n",
              "      <td>2.35</td>\n",
              "      <td>1.0</td>\n",
              "      <td>9.0</td>\n",
              "    </tr>\n",
              "    <tr>\n",
              "      <th>2</th>\n",
              "      <td>95453.0</td>\n",
              "      <td>1.0</td>\n",
              "      <td>3.33</td>\n",
              "      <td>1.0</td>\n",
              "      <td>10.0</td>\n",
              "    </tr>\n",
              "    <tr>\n",
              "      <th>3</th>\n",
              "      <td>57695.0</td>\n",
              "      <td>1.0</td>\n",
              "      <td>3.37</td>\n",
              "      <td>0.0</td>\n",
              "      <td>2.0</td>\n",
              "    </tr>\n",
              "    <tr>\n",
              "      <th>4</th>\n",
              "      <td>94364.0</td>\n",
              "      <td>1.0</td>\n",
              "      <td>3.87</td>\n",
              "      <td>1.0</td>\n",
              "      <td>4.0</td>\n",
              "    </tr>\n",
              "  </tbody>\n",
              "</table>\n",
              "</div>"
            ],
            "text/plain": [
              "   salario  noasiat   gpa  postgrad  experien\n",
              "0  99026.0      0.0  3.36       0.0      15.0\n",
              "1  69190.0      1.0  2.35       1.0       9.0\n",
              "2  95453.0      1.0  3.33       1.0      10.0\n",
              "3  57695.0      1.0  3.37       0.0       2.0\n",
              "4  94364.0      1.0  3.87       1.0       4.0"
            ]
          },
          "metadata": {
            "tags": []
          },
          "execution_count": 9
        }
      ]
    },
    {
      "cell_type": "code",
      "metadata": {
        "id": "n-yj-e8HhSH1",
        "colab_type": "code",
        "colab": {
          "base_uri": "https://localhost:8080/",
          "height": 35
        },
        "outputId": "d4370496-c001-4cf9-d636-19a1368fef16"
      },
      "source": [
        "df.columns"
      ],
      "execution_count": 10,
      "outputs": [
        {
          "output_type": "execute_result",
          "data": {
            "text/plain": [
              "Index(['salario', 'noasiat', 'gpa', 'postgrad', 'experien'], dtype='object')"
            ]
          },
          "metadata": {
            "tags": []
          },
          "execution_count": 10
        }
      ]
    },
    {
      "cell_type": "code",
      "metadata": {
        "id": "IHY1wUBkhWIy",
        "colab_type": "code",
        "colab": {
          "base_uri": "https://localhost:8080/",
          "height": 183
        },
        "outputId": "4d6237ff-55b5-4072-f1e3-85eb1e28bbb7"
      },
      "source": [
        "df.salario.describe()"
      ],
      "execution_count": 11,
      "outputs": [
        {
          "output_type": "execute_result",
          "data": {
            "text/plain": [
              "count       110.000000\n",
              "mean      85256.518182\n",
              "std       16419.359283\n",
              "min       47279.000000\n",
              "25%       74379.000000\n",
              "50%       86384.000000\n",
              "75%       96827.250000\n",
              "max      118683.000000\n",
              "Name: salario, dtype: float64"
            ]
          },
          "metadata": {
            "tags": []
          },
          "execution_count": 11
        }
      ]
    },
    {
      "cell_type": "markdown",
      "metadata": {
        "id": "2wNnsFVchyim",
        "colab_type": "text"
      },
      "source": [
        "Ahora se van a identificar las variables que más influyen para que una persona gane un salario superior a 96000 UM."
      ]
    },
    {
      "cell_type": "code",
      "metadata": {
        "id": "vWkejcgBh-sq",
        "colab_type": "code",
        "colab": {}
      },
      "source": [
        "y = np.where(df['salario'] > 96000, 1, 0)\n",
        "X = df.drop('salario', axis=1)"
      ],
      "execution_count": 22,
      "outputs": []
    },
    {
      "cell_type": "code",
      "metadata": {
        "id": "WI2xJtn1iWfe",
        "colab_type": "code",
        "colab": {
          "base_uri": "https://localhost:8080/",
          "height": 297
        },
        "outputId": "b4f87211-be5e-4c63-bc03-80833d2c606f"
      },
      "source": [
        "fig, ax = plt.subplots()\n",
        "ax.scatter(df.salario, y)\n",
        "ax.set(xlabel='Salario', ylabel='y')"
      ],
      "execution_count": 23,
      "outputs": [
        {
          "output_type": "execute_result",
          "data": {
            "text/plain": [
              "[Text(0, 0.5, 'y'), Text(0.5, 0, 'Salario')]"
            ]
          },
          "metadata": {
            "tags": []
          },
          "execution_count": 23
        },
        {
          "output_type": "display_data",
          "data": {
            "image/png": "[encoded data removed]",
            "text/plain": [
              "<Figure size 432x288 with 1 Axes>"
            ]
          },
          "metadata": {
            "tags": [],
            "needs_background": "light"
          }
        }
      ]
    },
    {
      "cell_type": "markdown",
      "metadata": {
        "id": "Tdn179bxi1FL",
        "colab_type": "text"
      },
      "source": [
        "A continuación se genera la regresión logistica"
      ]
    },
    {
      "cell_type": "code",
      "metadata": {
        "id": "p0fe5_3Fi457",
        "colab_type": "code",
        "colab": {}
      },
      "source": [
        "reg_log = linear_model.LogisticRegression()\n",
        "reg_log.fit(X,y)\n",
        "# Con la función predict_proba da la probabilidad\n",
        "y_estimado = reg_log.predict_proba(X)\n",
        "y_estimado_1 = reg_log.predict_proba(X)[:,1]\n",
        "# En cambio con predict generá la clasificación como un 0 o un 1 directamente\n",
        "y_clasificado = reg_log.predict(X)"
      ],
      "execution_count": 28,
      "outputs": []
    },
    {
      "cell_type": "code",
      "metadata": {
        "id": "iyR82yYkkZ17",
        "colab_type": "code",
        "colab": {
          "base_uri": "https://localhost:8080/",
          "height": 109
        },
        "outputId": "46b9c6a2-74c8-4732-b773-073f21140e9a"
      },
      "source": [
        "y_clasificado"
      ],
      "execution_count": 29,
      "outputs": [
        {
          "output_type": "execute_result",
          "data": {
            "text/plain": [
              "array([1, 0, 0, 0, 0, 1, 0, 1, 0, 0, 0, 0, 0, 1, 0, 0, 0, 0, 1, 0, 1, 0,\n",
              "       0, 0, 0, 0, 1, 0, 0, 0, 0, 1, 0, 1, 0, 1, 0, 1, 0, 0, 0, 0, 1, 0,\n",
              "       0, 1, 1, 0, 0, 1, 1, 1, 0, 0, 1, 0, 0, 1, 0, 1, 0, 1, 0, 0, 0, 0,\n",
              "       1, 0, 0, 0, 0, 0, 0, 1, 0, 1, 0, 0, 0, 1, 0, 0, 0, 0, 1, 0, 0, 0,\n",
              "       0, 1, 0, 0, 0, 1, 0, 0, 0, 0, 0, 0, 0, 0, 0, 1, 0, 0, 0, 0, 0, 1])"
            ]
          },
          "metadata": {
            "tags": []
          },
          "execution_count": 29
        }
      ]
    },
    {
      "cell_type": "code",
      "metadata": {
        "id": "-LAVRX0oj3cm",
        "colab_type": "code",
        "colab": {}
      },
      "source": [
        "#y_estimado_1"
      ],
      "execution_count": 30,
      "outputs": []
    },
    {
      "cell_type": "code",
      "metadata": {
        "id": "hDTCA0cijPTC",
        "colab_type": "code",
        "colab": {}
      },
      "source": [
        "#y_estimado"
      ],
      "execution_count": 31,
      "outputs": []
    },
    {
      "cell_type": "markdown",
      "metadata": {
        "id": "g5tAIMj3kyac",
        "colab_type": "text"
      },
      "source": [
        "Ahora con el vector de `y_clasificado` se puede hacer una comparación con la variable `y` original para así determinar la precisión del modelo. Para esto se usará la función de `accuracy_score` de la libreria de metricas de sickitlearn."
      ]
    },
    {
      "cell_type": "code",
      "metadata": {
        "id": "gbB7YK0ElI4g",
        "colab_type": "code",
        "colab": {
          "base_uri": "https://localhost:8080/",
          "height": 35
        },
        "outputId": "3e83d132-db19-44d1-a822-d0dc74445089"
      },
      "source": [
        "accuracy_score(y, reg_log.predict(X)) \n",
        "# Lo anterior equivalente a \n",
        "accuracy_score(y, y_clasificado)"
      ],
      "execution_count": 35,
      "outputs": [
        {
          "output_type": "execute_result",
          "data": {
            "text/plain": [
              "0.9090909090909091"
            ]
          },
          "metadata": {
            "tags": []
          },
          "execution_count": 35
        }
      ]
    },
    {
      "cell_type": "code",
      "metadata": {
        "id": "cHisHD-ZmArw",
        "colab_type": "code",
        "colab": {}
      },
      "source": [
        ""
      ],
      "execution_count": null,
      "outputs": []
    }
  ]
}